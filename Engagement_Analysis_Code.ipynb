{
 "cells": [
  {
   "cell_type": "markdown",
   "metadata": {},
   "source": [
    "Before we get started, a couple of reminders to keep in mind when using iPython notebooks:\n",
    "\n",
    "- Remember that you can see from the left side of a code cell when it was last run if there is a number within the brackets.\n",
    "- When you start a new notebook session, make sure you run all of the cells up to the point where you last left off. Even if the output is still visible from when you ran the cells in your previous session, the kernel starts in a fresh state so you'll need to reload the data, etc. on a new session.\n",
    "- The previous point is useful to keep in mind if your answers do not match what is expected in the lesson's quizzes. Try reloading the data and run all of the processing steps one by one in order to make sure that you are working with the same variables and data that are at each quiz stage.\n",
    "\n",
    "\n",
    "## Load Data from CSVs"
   ]
  },
  {
   "cell_type": "code",
   "execution_count": 709,
   "metadata": {},
   "outputs": [
    {
     "name": "stdout",
     "output_type": "stream",
     "text": [
      "{u'status': u'canceled', u'is_udacity': u'True', u'is_canceled': u'True', u'join_date': u'2014-11-10', u'account_key': u'448', u'cancel_date': u'2015-01-14', u'days_to_cancel': u'65'}\n"
     ]
    }
   ],
   "source": [
    "import unicodecsv\n",
    "\n",
    "## Longer version of code (replaced with shorter, equivalent version below)\n",
    "\n",
    "# enrollments = []\n",
    "# f = open('enrollments.csv', 'rb')\n",
    "# reader = unicodecsv.DictReader(f)\n",
    "# for row in reader:\n",
    "#     enrollments.append(row)\n",
    "# f.close()\n",
    "\n",
    "def read_csv(fname):\n",
    "    with open(fname, 'rb') as f:\n",
    "        reader = unicodecsv.DictReader(f)\n",
    "        newlist = list(reader)\n",
    "        return newlist\n",
    "\n",
    "enrollments = read_csv('enrollments.csv')\n",
    "print(enrollments[0])"
   ]
  },
  {
   "cell_type": "code",
   "execution_count": 710,
   "metadata": {},
   "outputs": [
    {
     "name": "stdout",
     "output_type": "stream",
     "text": [
      "{u'lessons_completed': u'0.0', u'num_courses_visited': u'1.0', u'total_minutes_visited': u'11.6793745', u'projects_completed': u'0.0', u'acct': u'0', u'utc_date': u'2015-01-09'}\n",
      "{u'lesson_key': u'3176718735', u'processing_state': u'EVALUATED', u'account_key': u'256', u'assigned_rating': u'UNGRADED', u'completion_date': u'2015-01-16', u'creation_date': u'2015-01-14'}\n"
     ]
    }
   ],
   "source": [
    "#####################################\n",
    "#                 1                 #\n",
    "#####################################\n",
    "\n",
    "## Read in the data from daily_engagement.csv and project_submissions.csv \n",
    "## and store the results in the below variables.\n",
    "## Then look at the first row of each table.\n",
    "\n",
    "daily_engagement = read_csv('daily_engagement.csv')\n",
    "\n",
    "print(daily_engagement[0])\n",
    "\n",
    "project_submissions = read_csv('project_submissions.csv')\n",
    "\n",
    "print(project_submissions[0])"
   ]
  },
  {
   "cell_type": "markdown",
   "metadata": {},
   "source": [
    "## Fixing Data Types"
   ]
  },
  {
   "cell_type": "code",
   "execution_count": 711,
   "metadata": {},
   "outputs": [
    {
     "data": {
      "text/plain": [
       "{u'account_key': u'448',\n",
       " u'cancel_date': datetime.datetime(2015, 1, 14, 0, 0),\n",
       " u'days_to_cancel': 65,\n",
       " u'is_canceled': True,\n",
       " u'is_udacity': True,\n",
       " u'join_date': datetime.datetime(2014, 11, 10, 0, 0),\n",
       " u'status': u'canceled'}"
      ]
     },
     "execution_count": 711,
     "metadata": {},
     "output_type": "execute_result"
    }
   ],
   "source": [
    "from datetime import datetime as dt\n",
    "\n",
    "# Takes a date as a string, and returns a Python datetime object. \n",
    "# If there is no date given, returns None\n",
    "def parse_date(date):\n",
    "    if date == '':\n",
    "        return None\n",
    "    else:\n",
    "        return dt.strptime(date, '%Y-%m-%d')\n",
    "    \n",
    "# Takes a string which is either an empty string or represents an integer,\n",
    "# and returns an int or None.\n",
    "def parse_maybe_int(i):\n",
    "    if i == '':\n",
    "        return None\n",
    "    else:\n",
    "        return int(i)\n",
    "\n",
    "# Clean up the data types in the enrollments table\n",
    "for enrollment in enrollments:\n",
    "    enrollment['cancel_date'] = parse_date(enrollment['cancel_date'])\n",
    "    enrollment['days_to_cancel'] = parse_maybe_int(enrollment['days_to_cancel'])\n",
    "    enrollment['is_canceled'] = enrollment['is_canceled'] == 'True'\n",
    "    enrollment['is_udacity'] = enrollment['is_udacity'] == 'True'\n",
    "    enrollment['join_date'] = parse_date(enrollment['join_date'])\n",
    "    \n",
    "enrollments[0]"
   ]
  },
  {
   "cell_type": "code",
   "execution_count": 712,
   "metadata": {},
   "outputs": [
    {
     "data": {
      "text/plain": [
       "{u'acct': u'0',\n",
       " u'lessons_completed': 0,\n",
       " u'num_courses_visited': 1,\n",
       " u'projects_completed': 0,\n",
       " u'total_minutes_visited': 11.6793745,\n",
       " u'utc_date': datetime.datetime(2015, 1, 9, 0, 0)}"
      ]
     },
     "execution_count": 712,
     "metadata": {},
     "output_type": "execute_result"
    }
   ],
   "source": [
    "# Clean up the data types in the engagement table\n",
    "for engagement_record in daily_engagement:\n",
    "    engagement_record['lessons_completed'] = int(float(engagement_record['lessons_completed']))\n",
    "    engagement_record['num_courses_visited'] = int(float(engagement_record['num_courses_visited']))\n",
    "    engagement_record['projects_completed'] = int(float(engagement_record['projects_completed']))\n",
    "    engagement_record['total_minutes_visited'] = float(engagement_record['total_minutes_visited'])\n",
    "    engagement_record['utc_date'] = parse_date(engagement_record['utc_date'])\n",
    "    \n",
    "daily_engagement[0]"
   ]
  },
  {
   "cell_type": "code",
   "execution_count": 713,
   "metadata": {},
   "outputs": [
    {
     "data": {
      "text/plain": [
       "{u'account_key': u'256',\n",
       " u'assigned_rating': u'UNGRADED',\n",
       " u'completion_date': datetime.datetime(2015, 1, 16, 0, 0),\n",
       " u'creation_date': datetime.datetime(2015, 1, 14, 0, 0),\n",
       " u'lesson_key': u'3176718735',\n",
       " u'processing_state': u'EVALUATED'}"
      ]
     },
     "execution_count": 713,
     "metadata": {},
     "output_type": "execute_result"
    }
   ],
   "source": [
    "# Clean up the data types in the submissions table\n",
    "for submission in project_submissions:\n",
    "    submission['completion_date'] = parse_date(submission['completion_date'])\n",
    "    submission['creation_date'] = parse_date(submission['creation_date'])\n",
    "\n",
    "project_submissions[0]"
   ]
  },
  {
   "cell_type": "markdown",
   "metadata": {},
   "source": [
    "Note when running the above cells that we are actively changing the contents of our data variables. If you try to run these cells multiple times in the same session, an error will occur.\n",
    "\n",
    "## Investigating the Data"
   ]
  },
  {
   "cell_type": "code",
   "execution_count": 714,
   "metadata": {},
   "outputs": [
    {
     "name": "stdout",
     "output_type": "stream",
     "text": [
      "{u'lessons_completed': 0, u'num_courses_visited': 1, u'total_minutes_visited': 11.6793745, u'projects_completed': 0, 'account_key': u'0', u'utc_date': datetime.datetime(2015, 1, 9, 0, 0)}\n"
     ]
    }
   ],
   "source": [
    "## Rename the \"acct\" column in the daily_engagement table to \"account_key\"\n",
    "\n",
    "for engagement_row in daily_engagement: \n",
    "    engagement_row['account_key'] = engagement_row['acct']\n",
    "    del engagement_row['acct']\n",
    "    #{we are calling each row in daily_engagement through engagement_row. then in each row, we are putting the value next to 'acct' next to a new key 'account key'. then we're deleting 'acct' and its value in that row.} \n",
    "    # remember this is a list of dictionaries. when you go through each row, you are entering the dictionary. \n",
    "print(daily_engagement[0])\n"
   ]
  },
  {
   "cell_type": "code",
   "execution_count": 715,
   "metadata": {
    "collapsed": true
   },
   "outputs": [],
   "source": [
    "def get_unique_students(data):\n",
    "    unique_students = set()\n",
    "    for row in data:\n",
    "        unique_students.add(row['account_key'])\n",
    "    return unique_students"
   ]
  },
  {
   "cell_type": "code",
   "execution_count": 716,
   "metadata": {},
   "outputs": [
    {
     "name": "stdout",
     "output_type": "stream",
     "text": [
      "The number of students in enrollments is 1640\n",
      "The number of students in daily engagement is 136240\n",
      "The number of students in project submissions is 3642\n",
      "The number of unique students in enrollments is 1302\n",
      "The number of unique students in daily engagement is 1237\n",
      "The number of unique students in project submissions is 743\n"
     ]
    }
   ],
   "source": [
    "## Find the total number of rows in and the number of unique students (account keys) in each table.\n",
    "\n",
    "# Number of rows in each table\n",
    "print 'The number of students in enrollments is %d' %(len(enrollments))\n",
    "print 'The number of students in daily engagement is %d' %(len(daily_engagement))\n",
    "print 'The number of students in project submissions is %d' %(len(project_submissions))\n",
    "\n",
    "# Number of unique students (account keys) in each table\n",
    "\n",
    "unique_enrolled_students = get_unique_students(enrollments)\n",
    "unique_daily_engaged = get_unique_students(daily_engagement)\n",
    "unique_proj_submissions = get_unique_students(project_submissions)\n",
    "\n",
    "#for enrollment in enrollments:\n",
    "    #unique_enrolled_students.add(enrollment['account_key'])\n",
    "    # this is the 1st round of the for-loop: print enrollments[0]['account_key']\n",
    "\n",
    "print 'The number of unique students in enrollments is %d' %(len(unique_enrolled_students))\n",
    "\n",
    "#unique_daily_engaged = set()\n",
    "#for engagement_record in daily_engagement:\n",
    "    #unique_daily_engaged.add(engagement_record['acct'])\n",
    "print 'The number of unique students in daily engagement is %d' %(len(unique_daily_engaged))\n",
    "\n",
    "#unique_proj_submissions = set()\n",
    "#for submission in project_submissions:\n",
    "    #unique_proj_submissions.add(submission['account_key'])\n",
    "print 'The number of unique students in project submissions is %d' %(len(unique_proj_submissions))\n",
    "\n",
    "# WHY ARE UNIQUE STUDENT ENROLLMENTS & DAILY ENGAGEMENTS NOT MATCHING UP? "
   ]
  },
  {
   "cell_type": "markdown",
   "metadata": {},
   "source": [
    "## Problems in the Data"
   ]
  },
  {
   "cell_type": "markdown",
   "metadata": {},
   "source": [
    "## Missing Engagement Records"
   ]
  },
  {
   "cell_type": "code",
   "execution_count": 717,
   "metadata": {},
   "outputs": [
    {
     "name": "stdout",
     "output_type": "stream",
     "text": [
      "1145\n",
      "{u'status': u'canceled', u'is_udacity': False, u'is_canceled': True, u'join_date': datetime.datetime(2015, 4, 4, 0, 0), u'account_key': u'1145', u'cancel_date': datetime.datetime(2015, 4, 4, 0, 0), u'days_to_cancel': 0}\n"
     ]
    }
   ],
   "source": [
    "# CHECK OUT 1 ENROLLMENT RECORD THAT WAS MISSING FROM ENGAGEMENT  \n",
    "missing_record_acctkey = []\n",
    "for acctkey in unique_enrolled_students:\n",
    "    if acctkey not in unique_daily_engaged:\n",
    "        missing_record_acctkey = acctkey\n",
    "        break\n",
    "print(missing_record_acctkey)\n",
    "\n",
    "missing_record = []\n",
    "for entry in enrollments: \n",
    "    if entry['account_key'] is missing_record_acctkey:\n",
    "        missing_record = entry\n",
    "\n",
    "print(missing_record)\n",
    "## Find any one student enrollments where the student is missing from the daily engagement table.\n",
    "## Output that enrollment.\n",
    "\n",
    "# RESULT: JOIN DATE AND CANCEL DATE ARE ON THE SAME DAY, AND STUDENTS NEED TO HAVE AN ACCOUNT FOR A WHOLE DAY BEFORE THE ENGAGEMENT IS RECORDED."
   ]
  },
  {
   "cell_type": "markdown",
   "metadata": {},
   "source": [
    "## Checking for More Problem Records"
   ]
  },
  {
   "cell_type": "code",
   "execution_count": 718,
   "metadata": {},
   "outputs": [
    {
     "name": "stdout",
     "output_type": "stream",
     "text": [
      "The number of problem students still there are 3\n",
      "[{u'status': u'canceled', u'is_udacity': True, u'is_canceled': True, u'join_date': datetime.datetime(2015, 1, 10, 0, 0), u'account_key': u'1304', u'cancel_date': datetime.datetime(2015, 3, 10, 0, 0), u'days_to_cancel': 59}, {u'status': u'canceled', u'is_udacity': True, u'is_canceled': True, u'join_date': datetime.datetime(2015, 3, 10, 0, 0), u'account_key': u'1304', u'cancel_date': datetime.datetime(2015, 6, 17, 0, 0), u'days_to_cancel': 99}, {u'status': u'current', u'is_udacity': True, u'is_canceled': False, u'join_date': datetime.datetime(2015, 2, 25, 0, 0), u'account_key': u'1101', u'cancel_date': None, u'days_to_cancel': None}]\n"
     ]
    }
   ],
   "source": [
    "more_problem_students = list()\n",
    "for enrollment in enrollments:\n",
    "    if enrollment['account_key'] not in unique_daily_engaged:\n",
    "        if enrollment['join_date'] != enrollment['cancel_date']:\n",
    "            more_problem_students.append(enrollment)\n",
    "\n",
    "print 'The number of problem students still there are %d' %(len(more_problem_students))\n",
    "\n",
    "print(more_problem_students)"
   ]
  },
  {
   "cell_type": "markdown",
   "metadata": {},
   "source": [
    "## Tracking Down the Remaining Problems"
   ]
  },
  {
   "cell_type": "code",
   "execution_count": 719,
   "metadata": {},
   "outputs": [
    {
     "data": {
      "text/plain": [
       "6"
      ]
     },
     "execution_count": 719,
     "metadata": {},
     "output_type": "execute_result"
    }
   ],
   "source": [
    "# Create a set of the account keys for all Udacity test accounts\n",
    "udacity_test_accounts = set()\n",
    "for enrollment in enrollments:\n",
    "    if enrollment['is_udacity']:\n",
    "        udacity_test_accounts.add(enrollment['account_key'])\n",
    "len(udacity_test_accounts)"
   ]
  },
  {
   "cell_type": "code",
   "execution_count": 720,
   "metadata": {
    "collapsed": true
   },
   "outputs": [],
   "source": [
    "# Given some data with an account_key field, removes any records corresponding to Udacity test accounts\n",
    "def remove_udacity_accounts(data):\n",
    "    non_udacity_data = []\n",
    "    for data_point in data:\n",
    "        if data_point['account_key'] not in udacity_test_accounts:\n",
    "            non_udacity_data.append(data_point)\n",
    "    return non_udacity_data"
   ]
  },
  {
   "cell_type": "code",
   "execution_count": 721,
   "metadata": {},
   "outputs": [
    {
     "name": "stdout",
     "output_type": "stream",
     "text": [
      "1622\n",
      "135656\n",
      "3634\n"
     ]
    }
   ],
   "source": [
    "# Remove Udacity test accounts from all three tables\n",
    "non_udacity_enrollments = remove_udacity_accounts(enrollments)\n",
    "non_udacity_engagement = remove_udacity_accounts(daily_engagement)\n",
    "non_udacity_submissions = remove_udacity_accounts(project_submissions)\n",
    "\n",
    "print len(non_udacity_enrollments)\n",
    "print len(non_udacity_engagement)\n",
    "print len(non_udacity_submissions)"
   ]
  },
  {
   "cell_type": "markdown",
   "metadata": {},
   "source": [
    "## Refining the Question"
   ]
  },
  {
   "cell_type": "code",
   "execution_count": 722,
   "metadata": {},
   "outputs": [
    {
     "name": "stdout",
     "output_type": "stream",
     "text": [
      "995\n"
     ]
    }
   ],
   "source": [
    "#####################################\n",
    "#                 6                 #\n",
    "#####################################\n",
    "\n",
    "## Create a dictionary named paid_students containing all students who either\n",
    "## haven't canceled yet or who remained enrolled for more than 7 days. The keys\n",
    "## should be account keys, and the values should be the date the student enrolled.\n",
    "\n",
    "paid_students = {}\n",
    "for enrollment in non_udacity_enrollments: \n",
    "    if enrollment['days_to_cancel'] is None or enrollment['days_to_cancel'] > 7:        \n",
    "        if enrollment['account_key'] not in paid_students or enrollment['join_date'] > paid_students[enrollment['account_key']]:\n",
    "            paid_students.update({enrollment['account_key']:enrollment['join_date']})\n",
    "\n",
    "print(len(paid_students))\n",
    "\n",
    "def remove_free_trial_cancels(data):\n",
    "    new_data = []\n",
    "    for data_point in data:\n",
    "        if data_point['account_key'] in paid_students:\n",
    "            new_data.append(data_point)\n",
    "    return new_data\n",
    "\n",
    "paid_enrollments = remove_free_trial_cancels(non_udacity_enrollments)\n",
    "paid_engagement = remove_free_trial_cancels(non_udacity_engagement)\n",
    "paid_submissions = remove_free_trial_cancels(non_udacity_submissions)"
   ]
  },
  {
   "cell_type": "markdown",
   "metadata": {},
   "source": [
    "## Getting Data from First Week"
   ]
  },
  {
   "cell_type": "code",
   "execution_count": 723,
   "metadata": {},
   "outputs": [],
   "source": [
    "# Takes a student's join date and the date of a specific engagement record,\n",
    "# and returns True if that engagement record happened within one week\n",
    "# of the student joining.\n",
    "def within_one_week(join_date, engagement_date):\n",
    "    time_delta = engagement_date - join_date\n",
    "    return time_delta.days < 7 and time_delta.days >= 0"
   ]
  },
  {
   "cell_type": "code",
   "execution_count": 724,
   "metadata": {},
   "outputs": [
    {
     "name": "stdout",
     "output_type": "stream",
     "text": [
      "6919\n"
     ]
    }
   ],
   "source": [
    "## Create a list of rows from the engagement table including only rows where\n",
    "## the student is one of the paid students you just found, and the date is within\n",
    "## one week of the student's join date.\n",
    "paid_engagement_in_first_week = []\n",
    "for record in paid_engagement:\n",
    "    acctkey = record['account_key']\n",
    "    join_date = paid_students[acctkey]\n",
    "    engagement_date = record['utc_date']\n",
    "    if within_one_week(join_date,engagement_date):\n",
    "        paid_engagement_in_first_week.append(record)\n",
    "# paid_engagement_in_first_week = \n",
    "print(len(paid_engagement_in_first_week))"
   ]
  },
  {
   "cell_type": "markdown",
   "metadata": {},
   "source": [
    "## Exploring Student Engagement"
   ]
  },
  {
   "cell_type": "code",
   "execution_count": 725,
   "metadata": {},
   "outputs": [],
   "source": [
    "from collections import defaultdict\n",
    "\n",
    "# Create a dictionary of engagement grouped by student.\n",
    "# The keys are account keys, and the values are lists of engagement records.\n",
    "def sum_grouped_items(data,key_name):\n",
    "    grouped_data = defaultdict(list)\n",
    "    for record in data:\n",
    "        key = record[key_name]\n",
    "        grouped_data[key].append(record)\n",
    "    return grouped_data\n",
    "\n",
    "engagement_by_account = sum_grouped_items(paid_engagement_in_first_week, 'account_key')\n",
    "# engagement_by_account = defaultdict(list)\n",
    "# for engagement_record in paid_engagement_in_first_week:\n",
    "#     account_key = engagement_record['account_key']\n",
    "#     engagement_by_account[account_key].append(engagement_record)"
   ]
  },
  {
   "cell_type": "code",
   "execution_count": 619,
   "metadata": {},
   "outputs": [
    {
     "name": "stdout",
     "output_type": "stream",
     "text": [
      "Mean: 306.708326753\n",
      "Standard deviation: 412.996933409\n",
      "Minimum: 0.0\n",
      "Maximum: 3564.7332645\n"
     ]
    }
   ],
   "source": [
    "# FUNCTION for analyzing components of engagement data & summarizing univariate stats\n",
    "import numpy as np\n",
    "\n",
    "# Create a dictionary with the total [VARIABLE OF INTEREST] each student spent in the classroom during the first week.\n",
    "# The keys are account keys, and the values are numbers\n",
    "def engagement_analysis(grouped_data, var_of_interest):\n",
    "    total_var_by_account = {}\n",
    "    for account_key, var_for_student in grouped_data.items():\n",
    "        total_var = 0\n",
    "        for engagement_record in var_for_student:\n",
    "            total_var += engagement_record[var_of_interest]\n",
    "        total_var_by_account[account_key] = total_var\n",
    "    \n",
    "    total_var = total_var_by_account.values()\n",
    "    print 'Mean:', np.mean(total_var)\n",
    "    print 'Standard deviation:', np.std(total_var)\n",
    "    print 'Minimum:', np.min(total_var)\n",
    "    print 'Maximum:', np.max(total_var)\n",
    "    return total_var\n",
    "\n",
    "total_minutes_visited = engagement_analysis(engagement_by_account,'total_minutes_visited')"
   ]
  },
  {
   "cell_type": "code",
   "execution_count": 538,
   "metadata": {},
   "outputs": [],
   "source": [
    "# # Create a dictionary with the total minutes each student spent in the classroom during the first week.\n",
    "# # The keys are account keys, and the values are numbers (total minutes)\n",
    "\n",
    "\n",
    "# total_minutes_by_account = {}\n",
    "# for account_key, engagement_for_student in engagement_by_account.items():\n",
    "#     total_minutes = 0\n",
    "#     for engagement_record in engagement_for_student:\n",
    "#         total_minutes += engagement_record['total_minutes_visited']\n",
    "#     total_minutes_by_account[account_key] = total_minutes\n",
    "\n",
    "# print(len(total_minutes_by_account))"
   ]
  },
  {
   "cell_type": "code",
   "execution_count": 475,
   "metadata": {},
   "outputs": [],
   "source": [
    "# import numpy as np\n",
    "\n",
    "# # Summarize the data about minutes spent in the classroom\n",
    "# total_minutes = total_minutes_by_account.values()\n",
    "# print 'Mean:', np.mean(total_minutes)\n",
    "# print 'Standard deviation:', np.std(total_minutes)\n",
    "# print 'Minimum:', np.min(total_minutes)\n",
    "# print 'Maximum:', np.max(total_minutes)"
   ]
  },
  {
   "cell_type": "markdown",
   "metadata": {},
   "source": [
    "# Debugging Data Analysis Code"
   ]
  },
  {
   "cell_type": "code",
   "execution_count": 726,
   "metadata": {},
   "outputs": [
    {
     "name": "stdout",
     "output_type": "stream",
     "text": [
      "{u'lessons_completed': 0, u'num_courses_visited': 2, u'total_minutes_visited': 25.9137858334, u'projects_completed': 0, 'account_key': u'108', u'utc_date': datetime.datetime(2015, 4, 20, 0, 0)}\n",
      "{u'lessons_completed': 0, u'num_courses_visited': 1, u'total_minutes_visited': 3.40682316667, u'projects_completed': 0, 'account_key': u'108', u'utc_date': datetime.datetime(2015, 4, 21, 0, 0)}\n",
      "{u'lessons_completed': 0, u'num_courses_visited': 2, u'total_minutes_visited': 99.1186611667, u'projects_completed': 0, 'account_key': u'108', u'utc_date': datetime.datetime(2015, 4, 22, 0, 0)}\n",
      "{u'lessons_completed': 0, u'num_courses_visited': 1, u'total_minutes_visited': 35.8316206667, u'projects_completed': 2, 'account_key': u'108', u'utc_date': datetime.datetime(2015, 4, 23, 0, 0)}\n",
      "{u'lessons_completed': 0, u'num_courses_visited': 0, u'total_minutes_visited': 0.0, u'projects_completed': 0, 'account_key': u'108', u'utc_date': datetime.datetime(2015, 4, 24, 0, 0)}\n",
      "{u'lessons_completed': 0, u'num_courses_visited': 0, u'total_minutes_visited': 0.0, u'projects_completed': 0, 'account_key': u'108', u'utc_date': datetime.datetime(2015, 4, 25, 0, 0)}\n",
      "{u'lessons_completed': 0, u'num_courses_visited': 0, u'total_minutes_visited': 0.0, u'projects_completed': 0, 'account_key': u'108', u'utc_date': datetime.datetime(2015, 4, 26, 0, 0)}\n"
     ]
    }
   ],
   "source": [
    "## Go through a similar process as before to see if there is a problem.\n",
    "## Locate at least one surprising piece of data, output it, and take a look at it.\n",
    "\n",
    "# I did the below print function and just used observational analysis\n",
    "\n",
    "for row in paid_engagement_in_first_week:\n",
    "    if row['account_key'] == '108':\n",
    "        print row"
   ]
  },
  {
   "cell_type": "markdown",
   "metadata": {},
   "source": [
    "## Lessons Completed in First Week"
   ]
  },
  {
   "cell_type": "code",
   "execution_count": 727,
   "metadata": {},
   "outputs": [
    {
     "name": "stdout",
     "output_type": "stream",
     "text": [
      "Mean: 1.63618090452\n",
      "Standard deviation: 3.00256129983\n",
      "Minimum: 0\n",
      "Maximum: 36\n"
     ]
    }
   ],
   "source": [
    "## Adapt the code above to find the mean, standard deviation, minimum, and maximum for\n",
    "## the number of lessons completed by each student during the first week. Try creating\n",
    "## one or more functions to re-use the code above.\n",
    "\n",
    "# Create a dictionary with the total minutes each student spent in the classroom during the first week.\n",
    "# The keys are account keys, and the values are numbers (total minutes)\n",
    "\n",
    "\n",
    "# total_lessons_by_account = {}\n",
    "# for account_key, lessons_for_student in engagement_by_account.items():\n",
    "#     total_lessons = 0\n",
    "#     for lessons_record in lessons_for_student:\n",
    "#         total_lessons += lessons_record['lessons_completed']\n",
    "#     total_lessons_by_account[account_key] = total_lessons\n",
    "\n",
    "# # Summarize the data about lessons completed in the classroom\n",
    "# total_lessons = total_lessons_by_account.values()\n",
    "# print 'Mean:', np.mean(total_lessons)\n",
    "# print 'Standard deviation:', np.std(total_lessons)\n",
    "# print 'Minimum:', np.min(total_lessons)\n",
    "# print 'Maximum:', np.max(total_lessons)\n",
    "\n",
    "\n",
    "grouped_data = sum_grouped_items(paid_engagement_in_first_week,'account_key')\n",
    "total_lessons_completed = engagement_analysis(grouped_data,'lessons_completed')\n"
   ]
  },
  {
   "cell_type": "markdown",
   "metadata": {},
   "source": [
    "## Number of Visits in First Week"
   ]
  },
  {
   "cell_type": "code",
   "execution_count": 728,
   "metadata": {},
   "outputs": [
    {
     "name": "stdout",
     "output_type": "stream",
     "text": [
      "6919\n",
      "Mean: 2.86733668342\n",
      "Standard deviation: 2.25519800292\n",
      "Minimum: 0\n",
      "Maximum: 7\n"
     ]
    }
   ],
   "source": [
    "## Find the mean, standard deviation, minimum, and maximum for the number of\n",
    "## days each student visits the classroom during the first week.\n",
    "\n",
    "paid_engagement_in_first_week_with_visits = paid_engagement_in_first_week[:]\n",
    "\n",
    "for record in paid_engagement_in_first_week_with_visits:\n",
    "    if record['num_courses_visited'] > 0:\n",
    "        record['has_visited'] = 1\n",
    "    else: \n",
    "        record['has_visited'] = 0\n",
    "    \n",
    "print(len(paid_engagement_in_first_week_with_visits))\n",
    "\n",
    "visits_by_account = sum_grouped_items(paid_engagement_in_first_week_with_visits,'account_key')\n",
    "total_visits_made = engagement_analysis(visits_by_account, 'has_visited')"
   ]
  },
  {
   "cell_type": "markdown",
   "metadata": {},
   "source": [
    "## Splitting out Passing Students"
   ]
  },
  {
   "cell_type": "code",
   "execution_count": 549,
   "metadata": {},
   "outputs": [],
   "source": [
    "# create a list of unique account ids from the submissions report; \n",
    "# Note: this includes ALL students, NOT just first week, though test accounts have been removed"
   ]
  },
  {
   "cell_type": "code",
   "execution_count": 729,
   "metadata": {},
   "outputs": [
    {
     "name": "stdout",
     "output_type": "stream",
     "text": [
      "647\n"
     ]
    }
   ],
   "source": [
    "######################################\n",
    "#                 11                 #\n",
    "######################################\n",
    "\n",
    "## Create two lists of engagement data for paid students in the first week.\n",
    "## The first list should contain data for students who eventually pass the\n",
    "## subway project, and the second list should contain data for students\n",
    "## who do not.\n",
    "\n",
    "subway_project_lesson_keys = ['746169184', '3176718735']\n",
    "\n",
    "# print(type(non_udacity_submissions)) RESULTS IN 'list'\n",
    "\n",
    "# get IDs of all the passed students first & update unique account list\n",
    "\n",
    "passed_students = set()\n",
    "for submission in paid_submissions: \n",
    "    project = submission['lesson_key']\n",
    "    rating = submission['assigned_rating']\n",
    "    if project in subway_project_lesson_keys and (rating == 'PASSED' or rating == 'DISTINCTION'):\n",
    "        passed_students.add(submission['account_key'])\n",
    "\n",
    "print(len(passed_students))"
   ]
  },
  {
   "cell_type": "code",
   "execution_count": 730,
   "metadata": {},
   "outputs": [
    {
     "name": "stdout",
     "output_type": "stream",
     "text": [
      "4527\n",
      "2392\n"
     ]
    }
   ],
   "source": [
    "# USE ACCOUNT IDS TO PULL OUT ENROLLMENT INFORMATION \n",
    "\n",
    "passing_engagement = []\n",
    "non_passing_engagement = []\n",
    "for engagement in paid_engagement_in_first_week_with_visits: \n",
    "    if engagement['account_key'] in passed_students:       \n",
    "        passing_engagement.append(engagement)\n",
    "    else:\n",
    "        non_passing_engagement.append(engagement)\n",
    "\n",
    "print(len(passing_engagement))\n",
    "print(len(non_passing_engagement))"
   ]
  },
  {
   "cell_type": "markdown",
   "metadata": {},
   "source": [
    "## Comparing the Two Student Groups"
   ]
  },
  {
   "cell_type": "code",
   "execution_count": 731,
   "metadata": {},
   "outputs": [
    {
     "name": "stdout",
     "output_type": "stream",
     "text": [
      "Passed students, total minutes visited:\n",
      "Mean: 394.586046484\n",
      "Standard deviation: 448.499519327\n",
      "Minimum: 0.0\n",
      "Maximum: 3564.7332645\n",
      "Passed students, total lessons completed:\n",
      "Mean: 2.05255023184\n",
      "Standard deviation: 3.14222705558\n",
      "Minimum: 0\n",
      "Maximum: 36\n",
      "Passed students, total days visited:\n",
      "Mean: 3.38485316847\n",
      "Standard deviation: 2.25882147092\n",
      "Minimum: 0\n",
      "Maximum: 7\n",
      "Failed students, total minutes visited:\n",
      "Mean: 143.326474267\n",
      "Standard deviation: 269.538619011\n",
      "Minimum: 0.0\n",
      "Maximum: 1768.52274933\n",
      "Failed students, total lessons completed:\n",
      "Mean: 0.862068965517\n",
      "Standard deviation: 2.54915994183\n",
      "Minimum: 0\n",
      "Maximum: 27\n",
      "Failed students, total days visited:\n",
      "Mean: 1.90517241379\n",
      "Standard deviation: 1.90573144136\n",
      "Minimum: 0\n",
      "Maximum: 7\n"
     ]
    }
   ],
   "source": [
    "## Compute some metrics you're interested in and see how they differ for\n",
    "## students who pass the subway project vs. students who don't. A good\n",
    "## starting point would be the metrics we looked at earlier (minutes spent\n",
    "## in the classroom, lessons completed, and days visited).\n",
    "\n",
    "# Minutes spent in the classroom \n",
    "\n",
    "grouped_data = sum_grouped_items(passing_engagement,'account_key')\n",
    "print('Passed students, total minutes visited:')\n",
    "passing_total_minutes = engagement_analysis(grouped_data,'total_minutes_visited')\n",
    "print('Passed students, total lessons completed:')\n",
    "passing_total_lessons = engagement_analysis(grouped_data,'lessons_completed')\n",
    "print('Passed students, total days visited:')\n",
    "passing_total_days = engagement_analysis(grouped_data,'has_visited')\n",
    "\n",
    "\n",
    "grouped_data = sum_grouped_items(non_passing_engagement,'account_key')\n",
    "print('Failed students, total minutes visited:')\n",
    "failed_total_minutes = engagement_analysis(grouped_data,'total_minutes_visited')\n",
    "print('Failed students, total lessons completed:')\n",
    "failed_total_lessons = engagement_analysis(grouped_data, 'lessons_completed')\n",
    "print('Failed students, total days visited:')\n",
    "failed_total_days = engagement_analysis(grouped_data, 'has_visited')\n",
    "\n",
    "# POTENTIAL QUESTIONS FOR EXPLORING IN THE FUTURE: \n",
    "## Are these students more likely to go onto other projects? \n",
    "## Are there certain projects failed students are more likely to pass than passing students? \n",
    "## Excluding those who cancel, are failed students going to put in more time (more minutes spent) than non-failed students during week 2? \n"
   ]
  },
  {
   "cell_type": "markdown",
   "metadata": {},
   "source": [
    "## Making Histograms"
   ]
  },
  {
   "cell_type": "code",
   "execution_count": 732,
   "metadata": {},
   "outputs": [
    {
     "data": {
      "image/png": "[encoded data removed]",
      "text/plain": [
       "<matplotlib.figure.Figure at 0x107074510>"
      ]
     },
     "metadata": {},
     "output_type": "display_data"
    },
    {
     "data": {
      "image/png": "[encoded data removed]",
      "text/plain": [
       "<matplotlib.figure.Figure at 0x136243d10>"
      ]
     },
     "metadata": {},
     "output_type": "display_data"
    },
    {
     "data": {
      "image/png": "[encoded data removed]",
      "text/plain": [
       "<matplotlib.figure.Figure at 0x12cd98ed0>"
      ]
     },
     "metadata": {},
     "output_type": "display_data"
    },
    {
     "data": {
      "image/png": "[encoded data removed]",
      "text/plain": [
       "<matplotlib.figure.Figure at 0x136243a10>"
      ]
     },
     "metadata": {},
     "output_type": "display_data"
    }
   ],
   "source": [
    "## Make histograms of the three metrics we looked at earlier for both\n",
    "## students who passed the subway project and students who didn't. You\n",
    "## might also want to make histograms of any other metrics you examined.\n",
    "\n",
    "import seaborn as sns\n",
    "\n",
    "%matplotlib inline\n",
    "import matplotlib.pyplot as plt\n",
    "plt.hist(passing_total_minutes,bins=20)\n",
    "plt.hist(failed_total_minutes,bins=20)\n",
    "plt.title('Total minutes spent in first week: passing vs failed students')\n",
    "plt.xlabel('Minutes spent')\n",
    "plt.ylabel('Number of students')\n",
    "plt.legend('PF')\n",
    "plt.show()\n",
    "\n",
    "plt.hist(passing_total_lessons,bins=10)\n",
    "plt.title('Total lessons taken in first week: passed students')\n",
    "plt.xlabel('Lessons taken')\n",
    "plt.ylabel('Number of students')\n",
    "plt.show()\n",
    "\n",
    "plt.hist(failed_total_lessons,bins=10)\n",
    "plt.title('Total lessons taken in first week: failed students')\n",
    "plt.xlabel('Lessons taken')\n",
    "plt.ylabel('Number of students')\n",
    "plt.show()\n",
    "\n",
    "plt.hist([passing_total_days, failed_total_days],bins=7,align='right')\n",
    "plt.ylim(0, 200)\n",
    "plt.xlim(0.5,7.5)\n",
    "plt.title('Total days spent learning in first week: passing vs failed students')\n",
    "plt.xlabel('Days learning')\n",
    "plt.ylabel('Number of students')\n",
    "plt.legend('PF')\n",
    "plt.show()"
   ]
  },
  {
   "cell_type": "markdown",
   "metadata": {},
   "source": [
    "## Improving Plots and Sharing Findings"
   ]
  },
  {
   "cell_type": "markdown",
   "metadata": {
    "collapsed": true
   },
   "source": [
    "#### SEE ABOVE!!!\n",
    "- Imported seaborn library, added axis labels, title, legend, bins, xlim/ylim\n",
    "- Results:  \n",
    "    - The mean # of minutes spent in Udacity among passing students is significantly higher than failing students\n",
    "    - Same for total # of lessons being participated in\n",
    "    - There is a range of passing AND failing students that spend anywhere between 1-7 days during their first week on Udacity. However, the number of passing students spending 1-6 days has a roughly uniform distribution whereas for failing students, there are far fewer spending more than 2 days (right-skewed). \n",
    "    - Also for passing students, the highest number spend 7 days during the first week whereas that is one of the smallest bins for failing students. \n",
    "    - Note: we cannot say that spending more time on Udacity, taking more lessons, or going on Udacity every day CAUSES students to pass because there was no A/B testing or experimental analysis done. There are external factors such as level of interest and background knowledge that may impact how a student performs and would not be improved by increasing any of those three factors. "
   ]
  }
 ],
 "metadata": {
  "kernelspec": {
   "display_name": "Python [conda env:DAND]",
   "language": "python",
   "name": "conda-env-DAND-py"
  },
  "language_info": {
   "codemirror_mode": {
    "name": "ipython",
    "version": 2
   },
   "file_extension": ".py",
   "mimetype": "text/x-python",
   "name": "python",
   "nbconvert_exporter": "python",
   "pygments_lexer": "ipython2",
   "version": "2.7.12"
  }
 },
 "nbformat": 4,
 "nbformat_minor": 1
}
